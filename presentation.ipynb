{
 "cells": [
  {
   "cell_type": "markdown",
   "metadata": {
    "slideshow": {
     "slide_type": "slide"
    }
   },
   "source": [
    "# Python OOP Tutorial\n",
    "\n",
    "Altran. June 2020.\n",
    "\n",
    "_Miguel Blanco Marcos_"
   ]
  },
  {
   "cell_type": "markdown",
   "metadata": {
    "slideshow": {
     "slide_type": "slide"
    }
   },
   "source": [
    "## Table of Contents:\n",
    "\n",
    "1. Object Oriented Programming\n",
    "2. Introduction to Classes in Python\n",
    " - Class Attributes\n",
    " - Class Methods\n",
    "3. Dunder Methods\n",
    "4. Decorators\n",
    "5. Inheritance\n",
    "6. Operator Overloading\n",
    "7. Excercise"
   ]
  },
  {
   "cell_type": "markdown",
   "metadata": {
    "slideshow": {
     "slide_type": "slide"
    }
   },
   "source": [
    "# 1. Object Oriented Programming\n",
    "\n",
    " * Object Oriented Programming (OOP) is a programming paradigm in which programs are desgined by making use of objects which interact with each other\n",
    "\n",
    " * Objects are composed of:\n",
    "   * *Attributes* (*fields*, *data*, properties*): variables within the object for storing information\n",
    "   * *Methods* (*functions*, *subroutines*, procedures*): functions within the object for manipulating internal or external data\n",
    " \n",
    " * We define objects through classes. Each object is an *instance* of a particular class\n",
    " \n",
    " * OOP focuses on creating easily reusable code. DRY: Don't Repeat Yourself"
   ]
  },
  {
   "cell_type": "markdown",
   "metadata": {
    "slideshow": {
     "slide_type": "slide"
    }
   },
   "source": [
    "## 2. Introduction to Classes in Python\n"
   ]
  },
  {
   "cell_type": "markdown",
   "metadata": {
    "slideshow": {
     "slide_type": "slide"
    }
   },
   "source": [
    "## 3. Dunder Methods"
   ]
  },
  {
   "cell_type": "markdown",
   "metadata": {
    "slideshow": {
     "slide_type": "slide"
    }
   },
   "source": [
    "## 4. Decorators"
   ]
  },
  {
   "cell_type": "markdown",
   "metadata": {
    "slideshow": {
     "slide_type": "slide"
    }
   },
   "source": [
    "## 5. Inheritance"
   ]
  },
  {
   "cell_type": "markdown",
   "metadata": {
    "slideshow": {
     "slide_type": "slide"
    }
   },
   "source": [
    "## 6. Operator Overloading"
   ]
  },
  {
   "cell_type": "markdown",
   "metadata": {
    "slideshow": {
     "slide_type": "slide"
    }
   },
   "source": [
    "## 7. Excercise"
   ]
  }
 ],
 "metadata": {
  "celltoolbar": "Slideshow",
  "kernelspec": {
   "display_name": "Python 3",
   "language": "python",
   "name": "python3"
  },
  "language_info": {
   "codemirror_mode": {
    "name": "ipython",
    "version": 3
   },
   "file_extension": ".py",
   "mimetype": "text/x-python",
   "name": "python",
   "nbconvert_exporter": "python",
   "pygments_lexer": "ipython3",
   "version": "3.7.4"
  }
 },
 "nbformat": 4,
 "nbformat_minor": 2
}
