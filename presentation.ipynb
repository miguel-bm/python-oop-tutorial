{
 "cells": [
  {
   "cell_type": "markdown",
   "metadata": {
    "slideshow": {
     "slide_type": "slide"
    }
   },
   "source": [
    "# Python OOP Tutorial\n",
    "\n",
    "Altran. June 2020.\n",
    "\n",
    "_Miguel Blanco Marcos_"
   ]
  },
  {
   "cell_type": "markdown",
   "metadata": {
    "slideshow": {
     "slide_type": "slide"
    }
   },
   "source": [
    "## Table of Contents:\n",
    "\n",
    " 1. Object Oriented Programming\n",
    " 2. Introduction to Classes in Python\n",
    "   - Attributes\n",
    "   - Methods\n",
    " 3. Dunder Methods\n",
    "   - Operator Overloading\n",
    " 4. Decorators\n",
    " 5. Inheritance\n",
    " 6. Excercise\n",
    " 7. Additional Resources"
   ]
  },
  {
   "cell_type": "markdown",
   "metadata": {
    "slideshow": {
     "slide_type": "slide"
    }
   },
   "source": [
    "# 1. Object Oriented Programming\n",
    "\n",
    " * Object Oriented Programming (OOP) is a programming paradigm in which programs are desgined by making use of objects which interact with each other\n",
    "\n",
    " * Objects are composed of:\n",
    "   * *Attributes* (*fields*, *data*, *properties*): variables within the object for storing information\n",
    "   * *Methods* (*functions*, *subroutines*, *procedures*): functions within the object for manipulating internal or external data\n",
    " \n",
    " * We define objects through classes. Each object is an *instance* of a particular class\n",
    " \n",
    " * OOP focuses on creating easily reusable code. DRY: Don't Repeat Yourself"
   ]
  },
  {
   "cell_type": "markdown",
   "metadata": {
    "slideshow": {
     "slide_type": "slide"
    }
   },
   "source": [
    "## 2. Introduction to Classes in Python\n",
    "\n",
    " * In Python, we define *classes*. \n",
    " * An object in Python is an *instance* of a class. \n",
    " * Each object can have *attributes* and *methods*."
   ]
  },
  {
   "cell_type": "code",
   "execution_count": 59,
   "metadata": {
    "slideshow": {
     "slide_type": "fragment"
    }
   },
   "outputs": [],
   "source": [
    "# Define a class\n",
    "class Vector:\n",
    "    pass"
   ]
  },
  {
   "cell_type": "code",
   "execution_count": 60,
   "metadata": {
    "slideshow": {
     "slide_type": "fragment"
    }
   },
   "outputs": [
    {
     "name": "stdout",
     "output_type": "stream",
     "text": [
      "<__main__.Vector object at 0x00000200D4204608>\n",
      "<class '__main__.Vector'>\n"
     ]
    }
   ],
   "source": [
    "# Create an object by instantiating the class\n",
    "v = Vector()\n",
    "\n",
    "# Let's look at the object and its class\n",
    "print(v)\n",
    "print(type(v))"
   ]
  },
  {
   "cell_type": "markdown",
   "metadata": {
    "slideshow": {
     "slide_type": "slide"
    }
   },
   "source": [
    "### Attributes\n",
    "\n",
    "Attributes are the data storage inside the classes.\n",
    "\n",
    " * **Class Attributes**: the same for every instance of the class. Should not be accessed or modified outside of the class."
   ]
  },
  {
   "cell_type": "code",
   "execution_count": 61,
   "metadata": {
    "slideshow": {
     "slide_type": "fragment"
    }
   },
   "outputs": [
    {
     "name": "stdout",
     "output_type": "stream",
     "text": [
      "Cartesian\n"
     ]
    }
   ],
   "source": [
    "class Vector:\n",
    "    system = \"Cartesian\"\n",
    "    dimensions = 2\n",
    "    \n",
    "v = Vector()  # Instantiation of Vector class\n",
    "print(v.system)"
   ]
  },
  {
   "cell_type": "markdown",
   "metadata": {
    "slideshow": {
     "slide_type": "slide"
    }
   },
   "source": [
    " * **Instance Attributes**: different for each instance of the class. In Python, we use the `self` keyword for creating and referencing them within the class definition."
   ]
  },
  {
   "cell_type": "code",
   "execution_count": 62,
   "metadata": {
    "slideshow": {
     "slide_type": "fragment"
    }
   },
   "outputs": [
    {
     "name": "stdout",
     "output_type": "stream",
     "text": [
      "The vector v points to (2, 3).\n",
      "The vector w points to (-1, 6).\n"
     ]
    }
   ],
   "source": [
    "class Vector:\n",
    "    system = \"Cartesian\"\n",
    "    dimensions = 2\n",
    "    \n",
    "    def __init__(self, x, y):  # This function is called at instantiation of the class\n",
    "        self.x = x  # `self` is how the object refers to itself\n",
    "        self.y = y\n",
    "        \n",
    "v = Vector(2, 3)  # Instantiation of Vector class\n",
    "w = Vector(-1, 6)\n",
    "\n",
    "print(f\"The vector v points to ({v.x}, {v.y}).\")\n",
    "print(f\"The vector w points to ({w.x}, {w.y}).\")"
   ]
  },
  {
   "cell_type": "code",
   "execution_count": 63,
   "metadata": {
    "slideshow": {
     "slide_type": "fragment"
    }
   },
   "outputs": [
    {
     "name": "stdout",
     "output_type": "stream",
     "text": [
      "2\n",
      "4\n"
     ]
    }
   ],
   "source": [
    "# Instance attributes are mutable\n",
    "print(v.x)\n",
    "v.x = 4\n",
    "print(v.x)"
   ]
  },
  {
   "cell_type": "markdown",
   "metadata": {
    "slideshow": {
     "slide_type": "slide"
    }
   },
   "source": [
    "### Methods\n",
    "\n",
    " * Methods are functions belonging to the class \n",
    " * They process data internal and/or external to the object\n",
    " * They can modify internal attributes"
   ]
  },
  {
   "cell_type": "code",
   "execution_count": 88,
   "metadata": {
    "slideshow": {
     "slide_type": "fragment"
    }
   },
   "outputs": [
    {
     "name": "stdout",
     "output_type": "stream",
     "text": [
      "0.982793723247329\n",
      "The vector v points to (6, -2).\n"
     ]
    }
   ],
   "source": [
    "import math\n",
    "\n",
    "class Vector:\n",
    "    system = \"Cartesian\"\n",
    "    dimensions = 2\n",
    "    \n",
    "    def __init__(self, x, y):  # Init is actually a special kind of method\n",
    "        self.x = x\n",
    "        self.y = y\n",
    "    \n",
    "    def displace_by(self, dx, dy): # This method takes in external data and madifies attributes\n",
    "        self.x += dx\n",
    "        self.y += dy\n",
    "    \n",
    "    def angle_with_axis(self):  # This method does not take external data, and does not modify attributes\n",
    "        return math.atan(self.y / self.x)\n",
    "        \n",
    "v = Vector(2, 3)\n",
    "print(v.angle_with_axis())  # Note that the `self` argument is v, and is skipped inside the parenthesis\n",
    "\n",
    "v.displace_by(4, -5)  \n",
    "print(f\"The vector v points to ({v.x}, {v.y}).\")"
   ]
  },
  {
   "cell_type": "markdown",
   "metadata": {
    "slideshow": {
     "slide_type": "slide"
    }
   },
   "source": [
    "## 3. Dunder Methods\n",
    "\n",
    " * *Dunder* (\"Double Underscores\") methods are special predefined methods\n",
    " * They are used to emulate the behaviour of the predefined types in your classes\n",
    " * They are not meant to be called directly in the code\n",
    " * Some common dunder methods:\n",
    "   * `__init__`: used when instantiating a class\n",
    "   * `__len__`: called when using the len() function\n",
    "   * `__str__`: nice string representation obtained with str()\n",
    "   * `__getitem__`: for getting components with `object[i]`\n"
   ]
  },
  {
   "cell_type": "code",
   "execution_count": 92,
   "metadata": {
    "slideshow": {
     "slide_type": "slide"
    }
   },
   "outputs": [
    {
     "name": "stdout",
     "output_type": "stream",
     "text": [
      "(2, 3)\n",
      "2\n"
     ]
    }
   ],
   "source": [
    "class Vector:\n",
    "    system = \"Cartesian\"\n",
    "    dimensions = 2\n",
    "    \n",
    "    def __init__(self, x, y):\n",
    "        self.x = x\n",
    "        self.y = y\n",
    "        \n",
    "    def __str__(self):  # We must return a string type\n",
    "        return f\"({self.x}, {self.y})\"\n",
    "    \n",
    "    def __len__(self):\n",
    "        return self.dimensions  # Access class attribute\n",
    "    \n",
    "    def displace_by(self, dx, dy):\n",
    "        self.x += dx\n",
    "        self.y += dy\n",
    "    \n",
    "    def angle_with_axis(self):\n",
    "        return math.atan(self.y / self.x)\n",
    "    \n",
    "v = Vector(2, 3)\n",
    "print(v)\n",
    "print(len(v))"
   ]
  },
  {
   "cell_type": "markdown",
   "metadata": {
    "slideshow": {
     "slide_type": "slide"
    }
   },
   "source": [
    "### Operator Overloading\n",
    "\n",
    " * In Python, operators (`+`, `**`, `/`, etc.) have multiple meanings depending on context\n",
    " * By default, operators do not work with user defined classes\n",
    " * We can define a custom behaviour through *operator overloading*\n",
    " * This is done with special dunder methods"
   ]
  },
  {
   "cell_type": "code",
   "execution_count": 114,
   "metadata": {
    "slideshow": {
     "slide_type": "slide"
    }
   },
   "outputs": [],
   "source": [
    "class Vector:\n",
    "    system = \"Cartesian\"\n",
    "    dimensions = 2\n",
    "    \n",
    "    def __init__(self, x, y):\n",
    "        self.x = x\n",
    "        self.y = y\n",
    "        \n",
    "    def __str__(self):\n",
    "        return f\"({self.x}, {self.y})\"\n",
    "    \n",
    "    def __add__(self, other):  # Takes 2 and only 2 arguments\n",
    "        x = self.x + other.x\n",
    "        y = self.y + other.y\n",
    "        return Vector(x, y)"
   ]
  },
  {
   "cell_type": "code",
   "execution_count": 113,
   "metadata": {
    "slideshow": {
     "slide_type": "fragment"
    }
   },
   "outputs": [
    {
     "name": "stdout",
     "output_type": "stream",
     "text": [
      "(1, 9)\n"
     ]
    }
   ],
   "source": [
    "v = Vector(2, 3)\n",
    "w = Vector(-1, 6)\n",
    "print(v + w)"
   ]
  },
  {
   "cell_type": "markdown",
   "metadata": {
    "slideshow": {
     "slide_type": "slide"
    }
   },
   "source": [
    "## 4. Decorators\n",
    "\n",
    " * Decorators are functions \n",
    " * They wrap over another function and add functionality to it\n",
    " * There are some predefined decorators used in classes:\n",
    "   * `@property`: customize how to *get*, *set* and *delete* an attribute\n",
    "   * `@classmethod`: is not connected to the instance, only the class, and can modify its attributes\n",
    "   * `@staticmethod`: cannot access instance or class, is just an utility function"
   ]
  },
  {
   "cell_type": "code",
   "execution_count": 95,
   "metadata": {
    "slideshow": {
     "slide_type": "slide"
    }
   },
   "outputs": [],
   "source": [
    "class Vector:\n",
    "    system = \"Cartesian\"\n",
    "    dimensions = 2\n",
    "    \n",
    "    def __init__(self, x, y):\n",
    "        self.x = x\n",
    "        self.y = y\n",
    "        self._magnitude = (self.x**2 + self.y**2)**0.5  # This attribute is private\n",
    "        \n",
    "    def __str__(self):  # We must return a string type\n",
    "        return f\"({self.x}, {self.y})\"\n",
    "    \n",
    "    @property\n",
    "    def magnitude(self):\n",
    "        return self._magnitude  # The getter for magnitude just returns the private value\n",
    "    \n",
    "    @magnitude.setter\n",
    "    def magnitude(self, value):  # The setter checks validity and modifies other attributes\n",
    "        assert value >= 0\n",
    "        self.x = self.x * value / self._magnitude\n",
    "        self.y = self.y * value / self._magnitude\n",
    "        self._magnitude = value"
   ]
  },
  {
   "cell_type": "code",
   "execution_count": 98,
   "metadata": {
    "slideshow": {
     "slide_type": "fragment"
    }
   },
   "outputs": [
    {
     "name": "stdout",
     "output_type": "stream",
     "text": [
      "5.0\n",
      "(8.0, 6.0)\n"
     ]
    }
   ],
   "source": [
    "v = Vector(4, 3)\n",
    "print(v.magnitude)  # No parentheses or underscore!\n",
    "\n",
    "v.magnitude = 10\n",
    "print(v)"
   ]
  },
  {
   "cell_type": "markdown",
   "metadata": {
    "slideshow": {
     "slide_type": "slide"
    }
   },
   "source": [
    "## 5. Inheritance\n",
    "\n",
    " * We can define a class as the 'child' of another class\n",
    " * The child will inherit all the functionality from the parent\n",
    " * Then, we can add additional funcionality to the child \n",
    " * We can also modify the inherited functionality by overriding it\n",
    " * It is possible to inherit from built-in types (e.g., `int` or `dict`)"
   ]
  },
  {
   "cell_type": "code",
   "execution_count": 122,
   "metadata": {
    "slideshow": {
     "slide_type": "slide"
    }
   },
   "outputs": [],
   "source": [
    "class Vector:\n",
    "    def __init__(self, x, y):\n",
    "        self.x = x\n",
    "        self.y = y\n",
    "    \n",
    "    def __str__(self):\n",
    "        return f\"({self.x}, {self.y})\"\n",
    "    \n",
    "class Versor(Vector):  # Versor is a child of Vector\n",
    "    def __init__(self, x, y):  # Versor overrides Vector`s __init__ method\n",
    "        m = (x**2 + y**2)**0.5\n",
    "        super().__init__(x/m, y/m)  # super() returns the parent class and can gives access to the original methods"
   ]
  },
  {
   "cell_type": "code",
   "execution_count": 125,
   "metadata": {
    "slideshow": {
     "slide_type": "fragment"
    }
   },
   "outputs": [
    {
     "name": "stdout",
     "output_type": "stream",
     "text": [
      "(0.6, 0.8)\n"
     ]
    }
   ],
   "source": [
    "v = Versor(3, 4)\n",
    "print(v)  # Versor has inherited __str__ from Vector"
   ]
  },
  {
   "cell_type": "markdown",
   "metadata": {
    "slideshow": {
     "slide_type": "slide"
    }
   },
   "source": [
    "## 6. Exercise"
   ]
  },
  {
   "cell_type": "markdown",
   "metadata": {
    "slideshow": {
     "slide_type": "slide"
    }
   },
   "source": [
    "## 7. Additional Resources"
   ]
  },
  {
   "cell_type": "code",
   "execution_count": null,
   "metadata": {},
   "outputs": [],
   "source": []
  }
 ],
 "metadata": {
  "celltoolbar": "Slideshow",
  "kernelspec": {
   "display_name": "Python 3",
   "language": "python",
   "name": "python3"
  },
  "language_info": {
   "codemirror_mode": {
    "name": "ipython",
    "version": 3
   },
   "file_extension": ".py",
   "mimetype": "text/x-python",
   "name": "python",
   "nbconvert_exporter": "python",
   "pygments_lexer": "ipython3",
   "version": "3.7.4"
  }
 },
 "nbformat": 4,
 "nbformat_minor": 2
}
